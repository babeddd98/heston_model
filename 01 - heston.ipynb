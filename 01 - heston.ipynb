{
 "cells": [
  {
   "cell_type": "code",
   "execution_count": 16,
   "metadata": {},
   "outputs": [
    {
     "ename": "TypeError",
     "evalue": "Wrong number or type of arguments for overloaded function 'VanillaOption_impliedVolatility'.\n  Possible C/C++ prototypes are:\n    VanillaOption::impliedVolatility(Real,ext::shared_ptr< GeneralizedBlackScholesProcess > const &,Real,Size,Volatility,Volatility)\n    VanillaOption::impliedVolatility(Real,ext::shared_ptr< GeneralizedBlackScholesProcess > const &,Real,Size,Volatility)\n    VanillaOption::impliedVolatility(Real,ext::shared_ptr< GeneralizedBlackScholesProcess > const &,Real,Size)\n    VanillaOption::impliedVolatility(Real,ext::shared_ptr< GeneralizedBlackScholesProcess > const &,Real)\n    VanillaOption::impliedVolatility(Real,ext::shared_ptr< GeneralizedBlackScholesProcess > const &)\n    VanillaOption::impliedVolatility(Real,ext::shared_ptr< GeneralizedBlackScholesProcess > const &,DividendSchedule const &,Real,Size,Volatility,Volatility)\n    VanillaOption::impliedVolatility(Real,ext::shared_ptr< GeneralizedBlackScholesProcess > const &,DividendSchedule const &,Real,Size,Volatility)\n    VanillaOption::impliedVolatility(Real,ext::shared_ptr< GeneralizedBlackScholesProcess > const &,DividendSchedule const &,Real,Size)\n    VanillaOption::impliedVolatility(Real,ext::shared_ptr< GeneralizedBlackScholesProcess > const &,DividendSchedule const &,Real)\n    VanillaOption::impliedVolatility(Real,ext::shared_ptr< GeneralizedBlackScholesProcess > const &,DividendSchedule const &)\n",
     "output_type": "error",
     "traceback": [
      "\u001b[1;31m---------------------------------------------------------------------------\u001b[0m",
      "\u001b[1;31mTypeError\u001b[0m                                 Traceback (most recent call last)",
      "\u001b[1;32m~\\AppData\\Local\\Temp\\ipykernel_14240\\3571301817.py\u001b[0m in \u001b[0;36m<module>\u001b[1;34m\u001b[0m\n\u001b[0;32m     42\u001b[0m     \u001b[0moption\u001b[0m\u001b[1;33m.\u001b[0m\u001b[0msetPricingEngine\u001b[0m\u001b[1;33m(\u001b[0m\u001b[0mql\u001b[0m\u001b[1;33m.\u001b[0m\u001b[0mAnalyticHestonEngine\u001b[0m\u001b[1;33m(\u001b[0m\u001b[0mheston_model\u001b[0m\u001b[1;33m)\u001b[0m\u001b[1;33m)\u001b[0m\u001b[1;33m\u001b[0m\u001b[1;33m\u001b[0m\u001b[0m\n\u001b[0;32m     43\u001b[0m     \u001b[0moption_price\u001b[0m \u001b[1;33m=\u001b[0m \u001b[0moption\u001b[0m\u001b[1;33m.\u001b[0m\u001b[0mNPV\u001b[0m\u001b[1;33m(\u001b[0m\u001b[1;33m)\u001b[0m\u001b[1;33m\u001b[0m\u001b[1;33m\u001b[0m\u001b[0m\n\u001b[1;32m---> 44\u001b[1;33m     \u001b[0mimplied_vol\u001b[0m \u001b[1;33m=\u001b[0m \u001b[0moption\u001b[0m\u001b[1;33m.\u001b[0m\u001b[0mimpliedVolatility\u001b[0m\u001b[1;33m(\u001b[0m\u001b[0moption_price\u001b[0m\u001b[1;33m,\u001b[0m \u001b[0mrisk_free_curve\u001b[0m\u001b[1;33m)\u001b[0m\u001b[1;33m\u001b[0m\u001b[1;33m\u001b[0m\u001b[0m\n\u001b[0m\u001b[0;32m     45\u001b[0m     \u001b[0mimplied_vols\u001b[0m\u001b[1;33m.\u001b[0m\u001b[0mappend\u001b[0m\u001b[1;33m(\u001b[0m\u001b[0mimplied_vol\u001b[0m\u001b[1;33m)\u001b[0m\u001b[1;33m\u001b[0m\u001b[1;33m\u001b[0m\u001b[0m\n\u001b[0;32m     46\u001b[0m \u001b[1;33m\u001b[0m\u001b[0m\n",
      "\u001b[1;32m~\\AppData\\Roaming\\Python\\Python39\\site-packages\\QuantLib\\QuantLib.py\u001b[0m in \u001b[0;36mimpliedVolatility\u001b[1;34m(self, *args)\u001b[0m\n\u001b[0;32m  16508\u001b[0m         \u001b[0mimpliedVolatility\u001b[0m\u001b[1;33m(\u001b[0m\u001b[0mVanillaOption\u001b[0m \u001b[0mself\u001b[0m\u001b[1;33m,\u001b[0m \u001b[0mReal\u001b[0m \u001b[0mtargetValue\u001b[0m\u001b[1;33m,\u001b[0m \u001b[0mext\u001b[0m\u001b[1;33m:\u001b[0m\u001b[1;33m:\u001b[0m\u001b[0mshared_ptr\u001b[0m\u001b[1;33m<\u001b[0m \u001b[0mGeneralizedBlackScholesProcess\u001b[0m \u001b[1;33m>\u001b[0m \u001b[0mconst\u001b[0m \u001b[1;33m&\u001b[0m \u001b[0mprocess\u001b[0m\u001b[1;33m,\u001b[0m \u001b[0mDividendSchedule\u001b[0m \u001b[0mdividends\u001b[0m\u001b[1;33m,\u001b[0m \u001b[0mReal\u001b[0m \u001b[0maccuracy\u001b[0m\u001b[1;33m=\u001b[0m\u001b[1;36m1.0e-4\u001b[0m\u001b[1;33m,\u001b[0m \u001b[0mSize\u001b[0m \u001b[0mmaxEvaluations\u001b[0m\u001b[1;33m=\u001b[0m\u001b[1;36m100\u001b[0m\u001b[1;33m,\u001b[0m \u001b[0mVolatility\u001b[0m \u001b[0mminVol\u001b[0m\u001b[1;33m=\u001b[0m\u001b[1;36m1.0e-4\u001b[0m\u001b[1;33m,\u001b[0m \u001b[0mVolatility\u001b[0m \u001b[0mmaxVol\u001b[0m\u001b[1;33m=\u001b[0m\u001b[1;36m4.0\u001b[0m\u001b[1;33m)\u001b[0m \u001b[1;33m->\u001b[0m \u001b[0mVolatility\u001b[0m\u001b[1;33m\u001b[0m\u001b[1;33m\u001b[0m\u001b[0m\n\u001b[0;32m  16509\u001b[0m         \"\"\"\n\u001b[1;32m> 16510\u001b[1;33m         \u001b[1;32mreturn\u001b[0m \u001b[0m_QuantLib\u001b[0m\u001b[1;33m.\u001b[0m\u001b[0mVanillaOption_impliedVolatility\u001b[0m\u001b[1;33m(\u001b[0m\u001b[0mself\u001b[0m\u001b[1;33m,\u001b[0m \u001b[1;33m*\u001b[0m\u001b[0margs\u001b[0m\u001b[1;33m)\u001b[0m\u001b[1;33m\u001b[0m\u001b[1;33m\u001b[0m\u001b[0m\n\u001b[0m\u001b[0;32m  16511\u001b[0m \u001b[1;33m\u001b[0m\u001b[0m\n\u001b[0;32m  16512\u001b[0m     \u001b[1;32mdef\u001b[0m \u001b[0mpriceCurve\u001b[0m\u001b[1;33m(\u001b[0m\u001b[0mself\u001b[0m\u001b[1;33m)\u001b[0m\u001b[1;33m:\u001b[0m\u001b[1;33m\u001b[0m\u001b[1;33m\u001b[0m\u001b[0m\n",
      "\u001b[1;31mTypeError\u001b[0m: Wrong number or type of arguments for overloaded function 'VanillaOption_impliedVolatility'.\n  Possible C/C++ prototypes are:\n    VanillaOption::impliedVolatility(Real,ext::shared_ptr< GeneralizedBlackScholesProcess > const &,Real,Size,Volatility,Volatility)\n    VanillaOption::impliedVolatility(Real,ext::shared_ptr< GeneralizedBlackScholesProcess > const &,Real,Size,Volatility)\n    VanillaOption::impliedVolatility(Real,ext::shared_ptr< GeneralizedBlackScholesProcess > const &,Real,Size)\n    VanillaOption::impliedVolatility(Real,ext::shared_ptr< GeneralizedBlackScholesProcess > const &,Real)\n    VanillaOption::impliedVolatility(Real,ext::shared_ptr< GeneralizedBlackScholesProcess > const &)\n    VanillaOption::impliedVolatility(Real,ext::shared_ptr< GeneralizedBlackScholesProcess > const &,DividendSchedule const &,Real,Size,Volatility,Volatility)\n    VanillaOption::impliedVolatility(Real,ext::shared_ptr< GeneralizedBlackScholesProcess > const &,DividendSchedule const &,Real,Size,Volatility)\n    VanillaOption::impliedVolatility(Real,ext::shared_ptr< GeneralizedBlackScholesProcess > const &,DividendSchedule const &,Real,Size)\n    VanillaOption::impliedVolatility(Real,ext::shared_ptr< GeneralizedBlackScholesProcess > const &,DividendSchedule const &,Real)\n    VanillaOption::impliedVolatility(Real,ext::shared_ptr< GeneralizedBlackScholesProcess > const &,DividendSchedule const &)\n"
     ]
    }
   ],
   "source": [
    "import QuantLib as ql\n",
    "import matplotlib.pyplot as plt\n",
    "import numpy as np\n",
    "\n",
    "# Define the Heston model parameters\n",
    "v0 = 0.04  # initial volatility\n",
    "kappa = 0.1  # mean reversion speed\n",
    "theta = 0.04  # long-term mean volatility\n",
    "sigma = 0.3  # volatility of volatility\n",
    "rho = -0.75  # correlation between the asset price and volatility\n",
    "r = 0.05  # risk-free interest rate\n",
    "\n",
    "risk_free_rate = 0.05  # risk-free interest rate\n",
    "dividend_yield = 0.0  # dividend yield\n",
    "\n",
    "risk_free_curve = ql.FlatForward(\n",
    "    0, ql.NullCalendar(), risk_free_rate, ql.Actual365Fixed())\n",
    "dividend_curve = ql.FlatForward(\n",
    "    0, ql.NullCalendar(), dividend_yield, ql.Actual365Fixed())\n",
    "\n",
    "heston_process = ql.HestonProcess(ql.YieldTermStructureHandle(risk_free_curve),\n",
    "                                  ql.YieldTermStructureHandle(dividend_curve),\n",
    "                                  ql.QuoteHandle(ql.SimpleQuote(1.0)),\n",
    "                                  v0, kappa, theta, sigma, rho)\n",
    "\n",
    "\n",
    "\n",
    "# Set up the option contract\n",
    "option_type = ql.Option.Call  # Call or Put option\n",
    "maturity_date = ql.Date(18, 5, 2023)  # option maturity date\n",
    "strike_price = 100  # option strike price\n",
    "exercise = ql.EuropeanExercise(maturity_date)\n",
    "payoff = ql.PlainVanillaPayoff(option_type, strike_price)\n",
    "option = ql.VanillaOption(payoff, exercise)\n",
    "\n",
    "# Calculate the implied volatilities for different strike prices\n",
    "strikes = np.linspace(50, 150, 51)  # strike prices range\n",
    "implied_vols = []\n",
    "\n",
    "for strike in strikes:\n",
    "    heston_model = ql.HestonModel(heston_process)\n",
    "    option.setPricingEngine(ql.AnalyticHestonEngine(heston_model))\n",
    "    option_price = option.NPV()\n",
    "    implied_vol = option.impliedVolatility(option_price, risk_free_curve)\n",
    "    implied_vols.append(implied_vol)\n",
    "\n",
    "# Plot the volatility smile\n",
    "plt.plot(strikes, implied_vols)\n",
    "plt.xlabel('Strike Price')\n",
    "plt.ylabel('Implied Volatility')\n",
    "plt.title('Volatility Smile (Heston Model)')\n",
    "plt.grid(True)\n",
    "plt.show()\n"
   ]
  }
 ],
 "metadata": {
  "kernelspec": {
   "display_name": "base",
   "language": "python",
   "name": "python3"
  },
  "language_info": {
   "codemirror_mode": {
    "name": "ipython",
    "version": 3
   },
   "file_extension": ".py",
   "mimetype": "text/x-python",
   "name": "python",
   "nbconvert_exporter": "python",
   "pygments_lexer": "ipython3",
   "version": "3.9.13"
  },
  "orig_nbformat": 4
 },
 "nbformat": 4,
 "nbformat_minor": 2
}
