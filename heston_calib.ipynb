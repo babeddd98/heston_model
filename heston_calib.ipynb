{
 "cells": [
  {
   "cell_type": "code",
   "execution_count": 3,
   "metadata": {},
   "outputs": [],
   "source": [
    "import os\n",
    "import numpy as np\n",
    "import pandas as pd\n",
    "import matplotlib.pyplot as plt\n",
    "\n",
    "from scipy.integrate import quad\n",
    "from scipy.optimize import minimize\n",
    "from datetime import datetime as dt\n",
    "\n",
    "from eod import EodHistoricalData\n",
    "from nelson_siegel_svensson import NelsonSiegelSvenssonCurve\n",
    "from nelson_siegel_svensson.calibrate import calibrate_nss_ols\n"
   ]
  },
  {
   "cell_type": "code",
   "execution_count": 4,
   "metadata": {},
   "outputs": [],
   "source": [
    "def heston_charfunc(phi, S0, v0, kappa, theta, sigma, rho, lambd, tau, r):\n",
    "    \n",
    "    # constants\n",
    "    a = kappa*theta\n",
    "    b = kappa+lambd\n",
    "    \n",
    "    # common terms w.r.t phi\n",
    "    rspi = rho*sigma*phi*1j\n",
    "    \n",
    "    # define d parameter given phi and b\n",
    "    d = np.sqrt( (rho*sigma*phi*1j - b)**2 + (phi*1j+phi**2)*sigma**2 )\n",
    "    \n",
    "    # define g parameter given phi, b and d\n",
    "    g = (b-rspi+d)/(b-rspi-d)\n",
    "    \n",
    "    # calculate characteristic function by components\n",
    "    exp1 = np.exp(r*phi*1j*tau)\n",
    "    term2 = S0**(phi*1j) * ( (1-g*np.exp(d*tau))/(1-g) )**(-2*a/sigma**2)\n",
    "    exp2 = np.exp(a*tau*(b-rspi+d)/sigma**2 + v0*(b-rspi+d)*( (1-np.exp(d*tau))/(1-g*np.exp(d*tau)) )/sigma**2)\n",
    "\n",
    "    return exp1*term2*exp2"
   ]
  },
  {
   "cell_type": "code",
   "execution_count": 5,
   "metadata": {},
   "outputs": [],
   "source": [
    "def integrand(phi, S0, v0, kappa, theta, sigma, rho, lambd, tau, r):\n",
    "    args = (S0, v0, kappa, theta, sigma, rho, lambd, tau, r)\n",
    "    numerator = np.exp(r*tau)*heston_charfunc(phi-1j, *\n",
    "                                              args) - K*heston_charfunc(phi, *args)\n",
    "    denominator = 1j*phi*K**(1j*phi)\n",
    "    return numerator/denominator\n"
   ]
  },
  {
   "cell_type": "code",
   "execution_count": 6,
   "metadata": {},
   "outputs": [],
   "source": [
    "def heston_price_rec(S0, K, v0, kappa, theta, sigma, rho, lambd, tau, r):\n",
    "    args = (S0, v0, kappa, theta, sigma, rho, lambd, tau, r)\n",
    "    \n",
    "    P, umax, N = 0, 100, 10000\n",
    "    dphi=umax/N #dphi is width\n",
    "\n",
    "    for i in range(1,N):\n",
    "        # rectangular integration\n",
    "        phi = dphi * (2*i + 1)/2 # midpoint to calculate height\n",
    "        numerator = np.exp(r*tau)*heston_charfunc(phi-1j,*args) - K * heston_charfunc(phi,*args)\n",
    "        denominator = 1j*phi*K**(1j*phi)\n",
    "        \n",
    "        P += dphi * numerator/denominator\n",
    "        \n",
    "    return np.real((S0 - K*np.exp(-r*tau))/2 + P/np.pi)"
   ]
  },
  {
   "cell_type": "code",
   "execution_count": 7,
   "metadata": {},
   "outputs": [],
   "source": [
    "def heston_price(S0, K, v0, kappa, theta, sigma, rho, lambd, tau, r):\n",
    "    args = (S0, v0, kappa, theta, sigma, rho, lambd, tau, r)\n",
    "    \n",
    "    real_integral, err = np.real( quad(integrand, 0, 100, args=args) )\n",
    "    \n",
    "    return (S0 - K*np.exp(-r*tau))/2 + real_integral/np.pi"
   ]
  },
  {
   "cell_type": "code",
   "execution_count": 8,
   "metadata": {},
   "outputs": [
    {
     "name": "stderr",
     "output_type": "stream",
     "text": [
      "d:\\Program\\Anaconda\\lib\\site-packages\\scipy\\integrate\\_quadpack_py.py:523: ComplexWarning: Casting complex values to real discards the imaginary part\n",
      "  return _quadpack._qagse(func,a,b,args,full_output,epsabs,epsrel,limit)\n"
     ]
    },
    {
     "data": {
      "text/plain": [
       "11.540361819355368"
      ]
     },
     "execution_count": 8,
     "metadata": {},
     "output_type": "execute_result"
    }
   ],
   "source": [
    "# Parameters to test model\n",
    "\n",
    "S0 = 100. # initial asset price\n",
    "K = 100. # strike\n",
    "v0 = 0.1 # initial variance\n",
    "r = 0.03 # risk free rate\n",
    "kappa = 1.5768 # rate of mean reversion of variance process\n",
    "theta = 0.0398 # long-term mean variance\n",
    "sigma = 0.3 # volatility of volatility\n",
    "lambd = 0.575 # risk premium of variance\n",
    "rho = -0.5711 # correlation between variance and stock process\n",
    "tau = 1. # time to maturity\n",
    "\n",
    "heston_price( S0, K, v0, kappa, theta, sigma, rho, lambd, tau, r )"
   ]
  },
  {
   "cell_type": "code",
   "execution_count": 9,
   "metadata": {},
   "outputs": [],
   "source": [
    "yield_maturities = np.array([1/12, 2/12, 3/12, 6/12, 1, 2, 3, 5, 7, 10, 20, 30])\n",
    "yeilds = np.array([0.15,0.27,0.50,0.93,1.52,2.13,2.32,2.34,2.37,2.32,2.65,2.52]).astype(float)/100"
   ]
  },
  {
   "cell_type": "code",
   "execution_count": 10,
   "metadata": {},
   "outputs": [
    {
     "data": {
      "text/plain": [
       "NelsonSiegelSvenssonCurve(beta0=0.028391532234321608, beta1=-0.0292794989696539, beta2=0.02542822249072267, beta3=-0.014174074706445274, tau1=0.9922984237745156, tau2=4.7814093342418795)"
      ]
     },
     "execution_count": 10,
     "metadata": {},
     "output_type": "execute_result"
    }
   ],
   "source": [
    "#NSS model calibrate\n",
    "curve_fit, status = calibrate_nss_ols(yield_maturities,yeilds) \n",
    "\n",
    "curve_fit"
   ]
  },
  {
   "cell_type": "code",
   "execution_count": 14,
   "metadata": {},
   "outputs": [
    {
     "ename": "HTTPError",
     "evalue": "401 Client Error: Unauthorized for url: https://eodhistoricaldata.com/api/options/FCHI.INDX?fmt=json",
     "output_type": "error",
     "traceback": [
      "\u001b[1;31m---------------------------------------------------------------------------\u001b[0m",
      "\u001b[1;31mHTTPError\u001b[0m                                 Traceback (most recent call last)",
      "\u001b[1;32m~\\AppData\\Local\\Temp\\ipykernel_12644\\3384834381.py\u001b[0m in \u001b[0;36m<module>\u001b[1;34m\u001b[0m\n\u001b[0;32m      5\u001b[0m \u001b[0mclient\u001b[0m \u001b[1;33m=\u001b[0m \u001b[0mEodHistoricalData\u001b[0m\u001b[1;33m(\u001b[0m\u001b[0mapi_key\u001b[0m\u001b[1;33m)\u001b[0m\u001b[1;33m\u001b[0m\u001b[1;33m\u001b[0m\u001b[0m\n\u001b[0;32m      6\u001b[0m \u001b[1;33m\u001b[0m\u001b[0m\n\u001b[1;32m----> 7\u001b[1;33m \u001b[0mresp\u001b[0m \u001b[1;33m=\u001b[0m \u001b[0mclient\u001b[0m\u001b[1;33m.\u001b[0m\u001b[0mget_stock_options\u001b[0m\u001b[1;33m(\u001b[0m\u001b[1;34m'FCHI.INDX'\u001b[0m\u001b[1;33m)\u001b[0m\u001b[1;33m\u001b[0m\u001b[1;33m\u001b[0m\u001b[0m\n\u001b[0m\u001b[0;32m      8\u001b[0m \u001b[1;33m\u001b[0m\u001b[0m\n\u001b[0;32m      9\u001b[0m \u001b[0mresp\u001b[0m\u001b[1;33m\u001b[0m\u001b[1;33m\u001b[0m\u001b[0m\n",
      "\u001b[1;32m~\\AppData\\Roaming\\Python\\Python39\\site-packages\\eod\\historical_prices\\options_data_api\\options_data.py\u001b[0m in \u001b[0;36mget_stock_options\u001b[1;34m(self, symbol, **query_params)\u001b[0m\n\u001b[0;32m     34\u001b[0m         \"\"\"\n\u001b[0;32m     35\u001b[0m         \u001b[0mself\u001b[0m\u001b[1;33m.\u001b[0m\u001b[0mendpoint\u001b[0m \u001b[1;33m=\u001b[0m \u001b[0mself\u001b[0m\u001b[1;33m.\u001b[0m\u001b[0mURL_OPTIONS\u001b[0m \u001b[1;33m+\u001b[0m \u001b[0msymbol\u001b[0m\u001b[1;33m.\u001b[0m\u001b[0mupper\u001b[0m\u001b[1;33m(\u001b[0m\u001b[1;33m)\u001b[0m\u001b[1;33m\u001b[0m\u001b[1;33m\u001b[0m\u001b[0m\n\u001b[1;32m---> 36\u001b[1;33m         \u001b[1;32mreturn\u001b[0m \u001b[0msuper\u001b[0m\u001b[1;33m(\u001b[0m\u001b[1;33m)\u001b[0m\u001b[1;33m.\u001b[0m\u001b[0mhandle_request\u001b[0m\u001b[1;33m(\u001b[0m\u001b[0mself\u001b[0m\u001b[1;33m.\u001b[0m\u001b[0mendpoint\u001b[0m\u001b[1;33m,\u001b[0m \u001b[0mquery_params\u001b[0m\u001b[1;33m)\u001b[0m\u001b[1;33m\u001b[0m\u001b[1;33m\u001b[0m\u001b[0m\n\u001b[0m",
      "\u001b[1;32m~\\AppData\\Roaming\\Python\\Python39\\site-packages\\eod\\request_handler_class\\request_handler.py\u001b[0m in \u001b[0;36mhandle_request\u001b[1;34m(self, endpoint_url, query_params)\u001b[0m\n\u001b[0;32m     38\u001b[0m             \u001b[1;32mreturn\u001b[0m \u001b[0mself\u001b[0m\u001b[1;33m.\u001b[0m\u001b[0mresp\u001b[0m\u001b[1;33m.\u001b[0m\u001b[0mjson\u001b[0m\u001b[1;33m(\u001b[0m\u001b[1;33m)\u001b[0m\u001b[1;33m\u001b[0m\u001b[1;33m\u001b[0m\u001b[0m\n\u001b[0;32m     39\u001b[0m         \u001b[1;32melse\u001b[0m\u001b[1;33m:\u001b[0m\u001b[1;33m\u001b[0m\u001b[1;33m\u001b[0m\u001b[0m\n\u001b[1;32m---> 40\u001b[1;33m             \u001b[0mself\u001b[0m\u001b[1;33m.\u001b[0m\u001b[0mresp\u001b[0m\u001b[1;33m.\u001b[0m\u001b[0mraise_for_status\u001b[0m\u001b[1;33m(\u001b[0m\u001b[1;33m)\u001b[0m\u001b[1;33m\u001b[0m\u001b[1;33m\u001b[0m\u001b[0m\n\u001b[0m\u001b[0;32m     41\u001b[0m \u001b[1;33m\u001b[0m\u001b[0m\n\u001b[0;32m     42\u001b[0m     \u001b[1;32mdef\u001b[0m \u001b[0m__append_fmt\u001b[0m\u001b[1;33m(\u001b[0m\u001b[0mself\u001b[0m\u001b[1;33m,\u001b[0m \u001b[0mdict_to_append\u001b[0m\u001b[1;33m)\u001b[0m\u001b[1;33m:\u001b[0m\u001b[1;33m\u001b[0m\u001b[1;33m\u001b[0m\u001b[0m\n",
      "\u001b[1;32md:\\Program\\Anaconda\\lib\\site-packages\\requests\\models.py\u001b[0m in \u001b[0;36mraise_for_status\u001b[1;34m(self)\u001b[0m\n\u001b[0;32m   1019\u001b[0m \u001b[1;33m\u001b[0m\u001b[0m\n\u001b[0;32m   1020\u001b[0m         \u001b[1;32mif\u001b[0m \u001b[0mhttp_error_msg\u001b[0m\u001b[1;33m:\u001b[0m\u001b[1;33m\u001b[0m\u001b[1;33m\u001b[0m\u001b[0m\n\u001b[1;32m-> 1021\u001b[1;33m             \u001b[1;32mraise\u001b[0m \u001b[0mHTTPError\u001b[0m\u001b[1;33m(\u001b[0m\u001b[0mhttp_error_msg\u001b[0m\u001b[1;33m,\u001b[0m \u001b[0mresponse\u001b[0m\u001b[1;33m=\u001b[0m\u001b[0mself\u001b[0m\u001b[1;33m)\u001b[0m\u001b[1;33m\u001b[0m\u001b[1;33m\u001b[0m\u001b[0m\n\u001b[0m\u001b[0;32m   1022\u001b[0m \u001b[1;33m\u001b[0m\u001b[0m\n\u001b[0;32m   1023\u001b[0m     \u001b[1;32mdef\u001b[0m \u001b[0mclose\u001b[0m\u001b[1;33m(\u001b[0m\u001b[0mself\u001b[0m\u001b[1;33m)\u001b[0m\u001b[1;33m:\u001b[0m\u001b[1;33m\u001b[0m\u001b[1;33m\u001b[0m\u001b[0m\n",
      "\u001b[1;31mHTTPError\u001b[0m: 401 Client Error: Unauthorized for url: https://eodhistoricaldata.com/api/options/FCHI.INDX?fmt=json"
     ]
    }
   ],
   "source": [
    "# load the key from the environment variables\n",
    "api_key = os.environ.get('6460df84528795.02346344')  # place your api key here as a string\n",
    "\n",
    "# create the client instance\n",
    "client = EodHistoricalData(api_key)\n",
    "\n",
    "resp = client.get_stock_options('GSPC.INDX')\n",
    "\n",
    "resp\n",
    "\n",
    "market_prices = {}\n",
    "\n",
    "S0 = resp['lastTradePrice']\n",
    "\n",
    "for i in resp['data']:\n",
    "    market_prices[i['expirationDate']] = {}\n",
    "    market_prices[i['expirationDate']]['strike'] = [name['strike']\n",
    "                                                    for name in i['options']['CALL']]  # if name['volume'] is not None]\n",
    "    market_prices[i['expirationDate']]['price'] = [\n",
    "        (name['bid']+name['ask'])/2 for name in i['options']['CALL']]  # if name['volume'] is not None]\n",
    "\n",
    "all_strikes = [v['strike'] for i, v in market_prices.items()]\n",
    "common_strikes = set.intersection(*map(set, all_strikes))\n",
    "print('Number of common strikes:', len(common_strikes))\n",
    "common_strikes = sorted(common_strikes)\n",
    "\n",
    "prices = []\n",
    "maturities = []\n",
    "\n",
    "for date, v in market_prices.items():\n",
    "    maturities.append((dt.strptime(date, '%Y-%m-%d') - dt.today()).days/365.25)\n",
    "    price = [v['price'][i]\n",
    "             for i, x in enumerate(v['strike']) if x in common_strikes]\n",
    "    prices.append(price)\n",
    "\n",
    "price_arr = np.array(prices, dtype=object)\n",
    "np.shape(price_arr)\n",
    "\n",
    "volSurface = pd.DataFrame(price_arr, index=maturities, columns=common_strikes)\n",
    "volSurface = volSurface.iloc[(volSurface.index > 0.04) & (\n",
    "    volSurface.index < 1), (volSurface.columns > 3000) & (volSurface.columns < 5000)]\n",
    "volSurface\n"
   ]
  },
  {
   "cell_type": "code",
   "execution_count": null,
   "metadata": {},
   "outputs": [],
   "source": [
    "# Convert our vol surface to dataframe for each option price with parameters\n",
    "volSurfaceLong = volSurface.melt(ignore_index=False).reset_index()\n",
    "volSurfaceLong.columns = ['maturity', 'strike', 'price']\n",
    "\n",
    "# Calculate the risk free rate for each maturity using the fitted yield curve\n",
    "volSurfaceLong['rate'] = volSurfaceLong['maturity'].apply(curve_fit)"
   ]
  },
  {
   "cell_type": "code",
   "execution_count": null,
   "metadata": {},
   "outputs": [],
   "source": [
    "# This is the calibration function\n",
    "# heston_price(S0, K, v0, kappa, theta, sigma, rho, lambd, tau, r)\n",
    "# Parameters are v0, kappa, theta, sigma, rho, lambd\n",
    "\n",
    "\n",
    "# Define variables to be used in optimization\n",
    "S0 = resp['lastTradePrice']\n",
    "r = volSurfaceLong['rate'].to_numpy('float')\n",
    "K = volSurfaceLong['strike'].to_numpy('float')\n",
    "tau = volSurfaceLong['maturity'].to_numpy('float')\n",
    "P = volSurfaceLong['price'].to_numpy('float')\n",
    "\n",
    "params = {\"v0\": {\"x0\": 0.1, \"lbub\": [1e-3, 0.1]},\n",
    "          \"kappa\": {\"x0\": 3, \"lbub\": [1e-3, 5]},\n",
    "          \"theta\": {\"x0\": 0.05, \"lbub\": [1e-3, 0.1]},\n",
    "          \"sigma\": {\"x0\": 0.3, \"lbub\": [1e-2, 1]},\n",
    "          \"rho\": {\"x0\": -0.8, \"lbub\": [-1, 0]},\n",
    "          \"lambd\": {\"x0\": 0.03, \"lbub\": [-1, 1]},\n",
    "          }\n",
    "\n",
    "x0 = [param[\"x0\"] for key, param in params.items()]\n",
    "bnds = [param[\"lbub\"] for key, param in params.items()]\n",
    "\n",
    "\n",
    "def SqErr(x):\n",
    "    v0, kappa, theta, sigma, rho, lambd = [param for param in x]\n",
    "\n",
    "    # Attempted to use scipy integrate quad module as constrained to single floats not arrays\n",
    "    # err = np.sum([ (P_i-heston_price(S0, K_i, v0, kappa, theta, sigma, rho, lambd, tau_i, r_i))**2 /len(P) \\\n",
    "    #               for P_i, K_i, tau_i, r_i in zip(marketPrices, K, tau, r)])\n",
    "\n",
    "    # Decided to use rectangular integration function in the end\n",
    "    err = np.sum((P-heston_price_rec(S0, K, v0, kappa, theta,\n",
    "                 sigma, rho, lambd, tau, r))**2 / len(P))\n",
    "\n",
    "    # Zero penalty term - no good guesses for parameters\n",
    "    pen = 0  # np.sum( [(x_i-x0_i)**2 for x_i, x0_i in zip(x, x0)] )\n",
    "\n",
    "    return err + pen\n",
    "\n",
    "\n",
    "result = minimize(SqErr, x0, tol=1e-3, method='SLSQP',\n",
    "                  options={'maxiter': 1e4}, bounds=bnds)\n",
    "\n",
    "v0, kappa, theta, sigma, rho, lambd = [param for param in result.x]\n",
    "v0, kappa, theta, sigma, rho, lambd\n"
   ]
  },
  {
   "cell_type": "code",
   "execution_count": null,
   "metadata": {},
   "outputs": [],
   "source": [
    "heston_prices = heston_price_rec(S0, K, v0, kappa, theta, sigma, rho, lambd, tau, r)\n",
    "volSurfaceLong['heston_price'] = heston_prices"
   ]
  },
  {
   "cell_type": "code",
   "execution_count": null,
   "metadata": {},
   "outputs": [],
   "source": [
    "import plotly.graph_objects as go\n",
    "from plotly.graph_objs import Surface\n",
    "from plotly.offline import iplot, init_notebook_mode\n",
    "init_notebook_mode()\n",
    "\n",
    "fig = go.Figure(data=[go.Mesh3d(x=volSurfaceLong.maturity, y=volSurfaceLong.strike, z=volSurfaceLong.price, color='mediumblue', opacity=0.55)])\n",
    "\n",
    "fig.add_scatter3d(x=volSurfaceLong.maturity, y=volSurfaceLong.strike, z=volSurfaceLong.heston_price, mode='markers')\n",
    "\n",
    "fig.update_layout(\n",
    "    title_text='Market Prices (Mesh) vs Calibrated Heston Prices (Markers)',\n",
    "    scene = dict(xaxis_title='TIME (Years)',\n",
    "                    yaxis_title='STRIKES (Pts)',\n",
    "                    zaxis_title='INDEX OPTION PRICE (Pts)'),\n",
    "    height=800,\n",
    "    width=800\n",
    ")\n",
    "\n",
    "fig.show()"
   ]
  }
 ],
 "metadata": {
  "kernelspec": {
   "display_name": "base",
   "language": "python",
   "name": "python3"
  },
  "language_info": {
   "codemirror_mode": {
    "name": "ipython",
    "version": 3
   },
   "file_extension": ".py",
   "mimetype": "text/x-python",
   "name": "python",
   "nbconvert_exporter": "python",
   "pygments_lexer": "ipython3",
   "version": "3.9.13"
  },
  "orig_nbformat": 4
 },
 "nbformat": 4,
 "nbformat_minor": 2
}
